{
 "cells": [
  {
   "cell_type": "code",
   "execution_count": null,
   "id": "60deb4e9",
   "metadata": {},
   "outputs": [],
   "source": [
    "library(clusterProfiler)\n",
    "\n",
    "library(dplyr)\n",
    "library(ggplot2)\n",
    "library(reshape)\n",
    "library(tximport)\n",
    "library(DESeq2)\n",
    "library(\"pheatmap\")\n",
    "library(\"RColorBrewer\")\n",
    "library(AnnotationDbi)\n",
    "library(vsn)"
   ]
  },
  {
   "cell_type": "code",
   "execution_count": null,
   "id": "d7cc26c7",
   "metadata": {},
   "outputs": [],
   "source": [
    "tsv_file <- \"nf_outs/star_salmon/salmon.merged.gene_counts_length_scaled.tsv\"\n",
    "\n",
    "# Read the TSV file using read.table() or read.delim()\n",
    "data <- read.table(tsv_file, sep = \"\\t\", header = TRUE,row.names = 1)\n",
    "dat=data[c('ENSMUSG00000074987','ENSMUSG00000016458'),]\n",
    "dat = melt(dat, id='gene_name')\n",
    "ggplot(dat,                                      # Grouped barplot using ggplot2\n",
    "       aes(x = gene_name,\n",
    "           y = value,\n",
    "           fill =variable )) +\n",
    "  geom_bar(stat = \"identity\",\n",
    "           position = \"dodge\")+coord_flip()"
   ]
  },
  {
   "cell_type": "markdown",
   "id": "5c1e119b",
   "metadata": {},
   "source": [
    "# DEG"
   ]
  },
  {
   "cell_type": "code",
   "execution_count": null,
   "id": "48ab7b29",
   "metadata": {},
   "outputs": [],
   "source": [
    "tx = c('CONTROL_REP1','CONTROL_REP2','KO_REP1','KO_REP2')\n",
    "samps= as.data.frame(cbind(tx,c('CONTROL','CONTROL','KO','KO')))\n",
    "colnames(samps)=c('sample_id','condition')\n",
    "files <- file.path(\"/data/lemsaraa/bulk_wt1os/nf_outs/star_salmon/\", samps$sample_id, \"quant.sf\")\n",
    "names(files) <- samps$sample_id\n",
    "head(files)"
   ]
  },
  {
   "cell_type": "code",
   "execution_count": null,
   "id": "a3f3e229",
   "metadata": {},
   "outputs": [],
   "source": [
    "library(tximport)\n",
    "txi <- tximport(files, type=\"salmon\", txOut=TRUE,\n",
    "                countsFromAbundance=\"scaledTPM\")\n",
    "cts <- txi$counts\n",
    "cts <- cts[rowSums(cts) > 0,]"
   ]
  },
  {
   "cell_type": "code",
   "execution_count": null,
   "id": "409efd49",
   "metadata": {},
   "outputs": [],
   "source": [
    "gse=readRDS('nf_outs/star_salmon/salmon.merged.gene_counts_length_scaled.rds')"
   ]
  },
  {
   "cell_type": "code",
   "execution_count": null,
   "id": "0e453928",
   "metadata": {},
   "outputs": [],
   "source": [
    "gse$condition = as.factor(sapply(gse$names, function(x) strsplit(x,'_')[[1]][1]))\n",
    "levels(gse$condition)"
   ]
  },
  {
   "cell_type": "code",
   "execution_count": null,
   "id": "c4e35c20",
   "metadata": {},
   "outputs": [],
   "source": [
    "assay(gse)=round(as.matrix(assay(gse)))"
   ]
  },
  {
   "cell_type": "code",
   "execution_count": null,
   "id": "83c9ed24",
   "metadata": {},
   "outputs": [],
   "source": [
    "dds = DESeqDataSetFromMatrix(countData = assay(gse), colData = gse@colData, design = ~condition)\n"
   ]
  },
  {
   "cell_type": "code",
   "execution_count": null,
   "id": "eb46e439",
   "metadata": {},
   "outputs": [],
   "source": [
    "nrow(dds)\n",
    "keep <- rowSums(counts(dds) >= 10) >= 1\n",
    "dds <- dds[keep,]\n",
    "nrow(dds)\n",
    "#transformation\n",
    "meanSdPlot(assay(dds), ranks = FALSE)\n",
    "\n",
    "vsd <- vst(dds, blind = TRUE)\n",
    "meanSdPlot(assay(vsd), ranks = FALSE)\n",
    "\n",
    "head(assay(vsd), 3)\n"
   ]
  },
  {
   "cell_type": "code",
   "execution_count": null,
   "id": "8f357b68",
   "metadata": {},
   "outputs": [],
   "source": [
    "# rld <- rlog(dds, blind = FALSE)\n",
    "# head(assay(rld), 3)\n",
    "\n",
    "# df <- bind_rows(\n",
    "#   as_data_frame(log2(counts(dds, normalized=TRUE)[, 1:2]+1)) %>%\n",
    "#          mutate(transformation = \"log2(x + 1)\"),\n",
    "#   as_data_frame(assay(vsd)[, 1:2]) %>% mutate(transformation = \"vst\"),\n",
    "#   as_data_frame(assay(rld)[, 1:2]) %>% mutate(transformation = \"rlog\"))\n",
    "  \n",
    "# colnames(df)[1:2] <- c(\"x\", \"y\")  \n",
    "\n",
    "# lvls <- c(\"log2(x + 1)\", \"vst\", \"rlog\")\n",
    "# df$transformation <- factor(df$transformation, levels=lvls)\n",
    "\n",
    "# ggplot(df, aes(x = x, y = y)) + geom_hex(bins = 80) +\n",
    "#   coord_fixed() + facet_grid( . ~ transformation)  \n"
   ]
  },
  {
   "cell_type": "code",
   "execution_count": null,
   "id": "f0b48313",
   "metadata": {},
   "outputs": [],
   "source": [
    "sampleDistMatrix <- cor(assay(vsd))\n",
    "rownames(sampleDistMatrix) <- vsd$names\n",
    "colnames(sampleDistMatrix) <- vsd$names\n",
    "colors <- colorRampPalette( rev(brewer.pal(9, \"Blues\")) )(255)\n",
    "pheatmap(sampleDistMatrix,\n",
    "         col = colors)"
   ]
  },
  {
   "cell_type": "code",
   "execution_count": null,
   "id": "aca713a8",
   "metadata": {},
   "outputs": [],
   "source": [
    "#PCA\n",
    "plotPCA(vsd, intgroup = c(\"condition\"))"
   ]
  },
  {
   "cell_type": "markdown",
   "id": "c90d53d6",
   "metadata": {},
   "source": [
    "# Differential expression analysis"
   ]
  },
  {
   "cell_type": "code",
   "execution_count": null,
   "id": "6cd11da1",
   "metadata": {},
   "outputs": [],
   "source": [
    "dds <- estimateSizeFactors(dds)\n",
    "dds$condition= relevel(dds$condition, ref= 'CONTROL')\n",
    "dds <- DESeq(dds)\n",
    "res <- results(dds,lfcThreshold = 1)\n",
    "summary(res)\n",
    "resSig <- subset(res, padj < 0.1)\n",
    "resSig"
   ]
  },
  {
   "cell_type": "code",
   "execution_count": null,
   "id": "1a74a8c9",
   "metadata": {},
   "outputs": [],
   "source": [
    "# topGene <- rownames(res)[which.min(res$padj)]\n",
    "# plotCounts(dds, gene = topGene, intgroup=c(\"condition\"))"
   ]
  },
  {
   "cell_type": "markdown",
   "id": "716349e4",
   "metadata": {},
   "source": [
    "## MA-plot"
   ]
  },
  {
   "cell_type": "code",
   "execution_count": null,
   "id": "bf348c5a",
   "metadata": {},
   "outputs": [],
   "source": [
    "library(\"ashr\")\n",
    "resultsNames(dds)\n",
    "res <- lfcShrink(dds, coef=\"condition_KO_vs_CONTROL\", type=\"ashr\")\n",
    "plotMA(res, ylim = c(-30, 20))"
   ]
  },
  {
   "cell_type": "code",
   "execution_count": null,
   "id": "6f4d7114",
   "metadata": {},
   "outputs": [],
   "source": [
    "# hist(res$pvalue[res$baseMean > 1], breaks = 0:20/20,\n",
    "#      col = \"grey50\", border = \"white\")"
   ]
  },
  {
   "cell_type": "code",
   "execution_count": null,
   "id": "f1683a02",
   "metadata": {},
   "outputs": [],
   "source": [
    "res[c('ENSMUSG00000074987','ENSMUSG00000016458'),]"
   ]
  },
  {
   "cell_type": "code",
   "execution_count": null,
   "id": "b068622d",
   "metadata": {},
   "outputs": [],
   "source": [
    "gene_id=unique(read.table('nf_outs/star_salmon/salmon_tx2gene.tsv', sep='\\t',row.names = 1))\n",
    "colnames(gene_id)=c('symbol','name')\n",
    "resSig$symbol=rownames(resSig)\n",
    "resSig=merge(as.data.frame(resSig), gene_id, by= 'symbol')"
   ]
  },
  {
   "cell_type": "code",
   "execution_count": null,
   "id": "1dfa1988",
   "metadata": {},
   "outputs": [],
   "source": [
    "library(\"genefilter\")\n",
    "topVarGenes <- c('ENSMUSG00000074987','ENSMUSG00000016458')\n",
    "mat  <- assay(vsd)[topVarGenes, ]\n",
    "# mat  <- mat - rowMeans(mat)\n",
    "rownames(mat)=c('Wt1os','Wt1')\n",
    "anno <- as.data.frame(colData(vsd)[, c(\"condition\")])\n",
    "pheatmap(mat)"
   ]
  },
  {
   "cell_type": "code",
   "execution_count": null,
   "id": "78fd0dff",
   "metadata": {},
   "outputs": [],
   "source": [
    "topVarGenes <- resSig$symbol\n",
    "mat  <- assay(vsd)[topVarGenes, ]\n",
    "# mat  <- mat - rowMeans(mat)\n",
    "rownames(mat)=as.character(resSig$name)\n",
    "anno <- as.data.frame(colData(vsd)[, c(\"condition\")])\n",
    "pheatmap(mat)"
   ]
  },
  {
   "cell_type": "code",
   "execution_count": null,
   "id": "1c2f0b21",
   "metadata": {},
   "outputs": [],
   "source": [
    "# theme_s=theme(plot.margin = margin(0.5,0.5,0.5,0.5, \"cm\"),\n",
    "#               plot.caption = element_text(color = \"red\", face = \"bold\"),\n",
    "#              plot.title = element_text(color = \"black\", size = 24, face = \"bold\"),\n",
    "#   plot.subtitle = element_text(color = \"blue\"),\n",
    "             \n",
    "#              legend.text = element_text(size=20),text =element_text(size=20),axis.title = element_text(size = 16)\n",
    "#          , title =element_text(size=20) \n",
    "#              )\n",
    "\n",
    "# plots <- function(ek, num=10) {\n",
    "# if (class(ek) %in% c('enrichResult','gseaResult')){\n",
    "\n",
    "# tryCatch(expr={ek=simplify(ek)},\n",
    "#          error = function(e) {\n",
    "#     print('ok')  })\n",
    "# tryCatch({\n",
    "# p1 <- barplot(ek,showCategory=num)+theme_s\n",
    "# p2 <- dotplot(ek,showCategory=num)+theme_s\n",
    "# sim_mat <- pairwise_termsim(ek)\n",
    "# p3=emapplot(sim_mat)+theme_s\n",
    "# bg <- deg$logFC\n",
    "# names(bg) <- as.character(deg$protein)\n",
    "\n",
    "# p4=cnetplot(ek,foldChange=bg)+theme_s\n",
    "# p5=heatplot(ek,foldChange=bg)+coord_flip()+theme_s\n",
    "    \n",
    "# pdf(file = paste0(name,ek@ontology,'.pdf'),\n",
    "#     # The directory you want to save the file in\n",
    "#     width = 14, # The width of the plot in inches\n",
    "#     height = 18) # The height of the plot in inches\n",
    "\n",
    "# print(p1)\n",
    "# print(p2)\n",
    "# print(p3)\n",
    "# print(p4)    \n",
    "# dev.off()\n",
    "\n",
    "# pdf(file = paste0(name,ek@ontology,'heatmap','.pdf'),\n",
    "#     # The directory you want to save the file in\n",
    "#     width = 18, # The width of the plot in inches\n",
    "#     height = 100) # The height of the plot in inches\n",
    "\n",
    "# print(p5)    \n",
    "# dev.off()\n",
    "# },error = function(e) {\n",
    "#     print('ok')  })\n",
    "         \n",
    "# }}\n",
    "\n",
    "# dotplots <- function(ek, num=10) {\n",
    "#     if (class(ek) %in% c('enrichResult','compareClusterResult')){\n",
    "#     p=dotplot(ek,showCategory=num)+theme_s\n",
    "#     }else{\n",
    "#     p=NULL\n",
    "#     }\n",
    "#         return(p)\n",
    "\n",
    "#     }\n",
    "# pvalueCutoff=0.05\n",
    "# qvalueCutoff=0.05"
   ]
  },
  {
   "cell_type": "code",
   "execution_count": null,
   "id": "41020603",
   "metadata": {},
   "outputs": [],
   "source": [
    "#  name='CON.VS.KO'\n",
    "#  deg=as.data.frame(res)\n",
    "#  deg1 <- deg[deg$padj<0.05 & abs(deg$log2FoldChange)>1,]\n",
    "    \n",
    "# # differentially expressed genes ids\n",
    "# degs <- rownames(deg1)\n",
    "# # all gene ids\n",
    "# bgs <- rownames(deg)\n",
    "\n",
    "# print('start')\n",
    "# ego_cc <- enrichGO(gene=degs,keyType =\"ENSRMBL\",universe=bgs,OrgDb=org.Mm.eg.db,ont=\"CC\",\n",
    "#                     readable=TRUE)\n",
    "# ego_bp <- enrichGO(gene=degs ,keyType =\"ENSRMBL\",universe=bgs,OrgDb=org.Mm.eg.db,ont=\"BP\",\n",
    "#                     readable=TRUE)\n",
    "# ego_mf <- enrichGO(gene=degs,keyType =\"ENSRMBL\",universe=bgs,OrgDb=org.Mm.eg.db,ont=\"MF\",\n",
    "#                     readable=TRUE)\n",
    "# ek <- enrichMKEGG(gene=degs,organism='mmu', keyType='ENSEMBL', universe =bgs )\n",
    "# plots(ego_cc)\n",
    "# plots(ego_bp)\n",
    "# plots(ego_mf)\n",
    "# plots(ek)\n",
    "# print(ego_cc)\n",
    "# print('comparison')\n",
    "# mydf <- data.frame(Entrez=rownames(deg1), FC=deg1$logFC)\n",
    "# mydf$group <- \"upregulated\"\n",
    "# mydf$group[mydf$FC < 0] <- \"downregulated\"\n",
    "\n",
    "# formula_res <- compareCluster(Entrez~group, data=mydf, fun=\"enrichGO\",keyType =\"ENSRMBL\",universe=bgs,OrgDb=org.Mm.eg.db,ont=\"CC\",\n",
    "#                     readable=TRUE)\n",
    "# p1= dotplots(formula_res)\n",
    "\n",
    "# formula_res <- compareCluster(Entrez~group, data=mydf, fun=\"enrichGO\",keyType =\"ENSRMBL\",universe=bgs,OrgDb=org.Mm.eg.db,ont=\"BP\",\n",
    "#                     readable=TRUE)\n",
    "# p2= dotplots(formula_res)\n",
    "\n",
    "# formula_res <- compareCluster(Entrez~group, data=mydf, fun=\"enrichGO\",keyType =\"ENSRMBL\",universe=bgs,OrgDb=org.Mm.eg.db,ont=\"MF\",\n",
    "#                     readable=TRUE)\n",
    "# p3 =dotplots(formula_res)\n",
    "\n",
    "    \n",
    "# formula_res <- compareCluster(Entrez~group, data=mydf, fun=\"enrichMKEGG\",keyType =\"ENSRMBL\",organism='mmu',universe=bgs)\n",
    "# p4=dotplots(formula_res)\n",
    "# formula_res <- compareCluster(Entrez~group, data=mydf, fun=\"enrichKEGG\",keyType =\"ENSRMBL\",organism='mmu',universe=bgs)\n",
    "# p5=dotplots(formula_res)\n",
    "# pdf(file = paste0(name,'_compareclusters','.pdf'),\n",
    "#     # The directory you want to save the file in\n",
    "#     width = 12, # The width of the plot in inches\n",
    "#     height = 14) # The height of the plot in inches\n",
    "\n",
    "# print(p1)\n",
    "# print(p2)\n",
    "# print(p3)\n",
    "# print(p4)\n",
    "# print(p5)\n",
    "# dev.off()\n"
   ]
  },
  {
   "cell_type": "code",
   "execution_count": null,
   "id": "2c0ef37d",
   "metadata": {},
   "outputs": [],
   "source": [
    "library(org.Mm.eg.db)\n"
   ]
  },
  {
   "cell_type": "code",
   "execution_count": null,
   "id": "988cce86",
   "metadata": {},
   "outputs": [],
   "source": [
    "# trans = c('ENSMUST00000135153','ENSMUST00000172701','ENSMUST00000099647','ENSMUST00000174870',\n",
    "#  'ENSMUST00000143043','ENSMUST00000146842','ENSMUST00000133470','ENSMUST00000139585'\n",
    "#  ,'ENSMUST00000145107','ENSMUST00000111098','ENSMUST00000111099','ENSMUST00000153944')\n",
    "# counts = list()\n",
    "# files= c('200774_S40','200775_S41','200776_S42','200777_S43')\n",
    "# for (f in files)\n",
    "# {\n",
    "# tsv_file <- paste0(\"salmon_out/\",f,\"/quant.sf\")\n",
    "\n",
    "# # Read the TSV file using read.table() or read.delim()\n",
    "# data <- read.table(tsv_file, sep = \"\\t\", header = TRUE,row.names = 1)\n",
    "\n",
    "# log= list()\n",
    "# for (i in trans){\n",
    "# log = c(log,(rownames(data)[grepl(paste0(\"^\",i), rownames(data))]))\n",
    "    \n",
    "# }\n",
    "# print(log)\n",
    "# print(data[unlist(log),])\n",
    "# counts = c(counts, data[unlist(log),])\n",
    "#     }"
   ]
  },
  {
   "cell_type": "code",
   "execution_count": null,
   "id": "c249bc57",
   "metadata": {},
   "outputs": [],
   "source": []
  },
  {
   "cell_type": "code",
   "execution_count": null,
   "id": "92278d5b",
   "metadata": {},
   "outputs": [],
   "source": [
    "counts"
   ]
  },
  {
   "cell_type": "code",
   "execution_count": null,
   "id": "e428c156",
   "metadata": {},
   "outputs": [],
   "source": []
  }
 ],
 "metadata": {
  "kernelspec": {
   "display_name": "R",
   "language": "R",
   "name": "ir"
  },
  "language_info": {
   "codemirror_mode": "r",
   "file_extension": ".r",
   "mimetype": "text/x-r-source",
   "name": "R",
   "pygments_lexer": "r",
   "version": "4.2.3"
  }
 },
 "nbformat": 4,
 "nbformat_minor": 5
}
