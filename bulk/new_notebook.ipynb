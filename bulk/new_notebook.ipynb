{
 "cells": [
  {
   "cell_type": "code",
   "execution_count": null,
   "id": "60deb4e9",
   "metadata": {},
   "outputs": [],
   "source": [
    "library(ggplot2)\n",
    "library(reshape)\n",
    "library(tximport)\n",
    "library(DESeq2)"
   ]
  },
  {
   "cell_type": "code",
   "execution_count": null,
   "id": "fd7a3a42",
   "metadata": {},
   "outputs": [],
   "source": []
  },
  {
   "cell_type": "code",
   "execution_count": null,
   "id": "c1dbc280",
   "metadata": {},
   "outputs": [],
   "source": [
    "tsv_file <- \"nf_outs/star_salmon/salmon.merged.transcript_tpm.tsv\"\n",
    "\n",
    "# Read the TSV file using read.table() or read.delim()\n",
    "data <- read.table(tsv_file, sep = \"\\t\", header = TRUE,row.names = 1)\n",
    "dat=data[c('ENSMUST00000135153','ENSMUST00000172701','ENSMUST00000099647','ENSMUST00000174870','ENSMUST00000245064',\n",
    " 'ENSMUST00000143043','ENSMUST00000146842','ENSMUST00000133470','ENSMUST00000139585'\n",
    " ,'ENSMUST00000145107','ENSMUST00000111098','ENSMUST00000111099','ENSMUST00000153944'),]\n",
    "dat$gene_id = rownames(dat)\n",
    "dat = melt(dat, id='gene_id')\n",
    "ggplot(dat,                                      # Grouped barplot using ggplot2\n",
    "       aes(x = gene_id,\n",
    "           y = value,\n",
    "           fill =variable )) +\n",
    "  geom_bar(stat = \"identity\",\n",
    "           position = \"dodge\")+coord_flip()"
   ]
  },
  {
   "cell_type": "code",
   "execution_count": null,
   "id": "d7cc26c7",
   "metadata": {},
   "outputs": [],
   "source": [
    "tsv_file <- \"nf_outs/star_salmon/salmon.merged.gene_tpm.tsv\"\n",
    "\n",
    "# Read the TSV file using read.table() or read.delim()\n",
    "data <- read.table(tsv_file, sep = \"\\t\", header = TRUE,row.names = 1)\n",
    "dat=data[c('ENSMUSG00000074987','ENSMUSG00000016458'),]\n",
    "dat = melt(dat, id='gene_name')\n",
    "ggplot(dat,                                      # Grouped barplot using ggplot2\n",
    "       aes(x = gene_name,\n",
    "           y = value,\n",
    "           fill =variable )) +\n",
    "  geom_bar(stat = \"identity\",\n",
    "           position = \"dodge\")+coord_flip()"
   ]
  },
  {
   "cell_type": "code",
   "execution_count": null,
   "id": "409efd49",
   "metadata": {},
   "outputs": [],
   "source": [
    "gse=readRDS('nf_outs/star_salmon/salmon.merged.gene_counts_scaled.rds')"
   ]
  },
  {
   "cell_type": "code",
   "execution_count": null,
   "id": "0e453928",
   "metadata": {},
   "outputs": [],
   "source": [
    "gse$condition = as.factor(sapply(gse$names, function(x) strsplit(x,'_')[[1]][1]))\n",
    "levels(gse$condition)"
   ]
  },
  {
   "cell_type": "code",
   "execution_count": null,
   "id": "c4e35c20",
   "metadata": {},
   "outputs": [],
   "source": [
    "unlist(assay(gse))"
   ]
  },
  {
   "cell_type": "code",
   "execution_count": null,
   "id": "b2e876b2",
   "metadata": {},
   "outputs": [],
   "source": [
    "dds <- DESeqDataSet(gse, design = ~ condition)"
   ]
  },
  {
   "cell_type": "code",
   "execution_count": null,
   "id": "eb46e439",
   "metadata": {},
   "outputs": [],
   "source": [
    "round( colSums(assay(gse)) / 1e6, 1 )\n"
   ]
  },
  {
   "cell_type": "code",
   "execution_count": null,
   "id": "988cce86",
   "metadata": {},
   "outputs": [],
   "source": [
    "trans = c('ENSMUST00000135153','ENSMUST00000172701','ENSMUST00000099647','ENSMUST00000174870',\n",
    " 'ENSMUST00000143043','ENSMUST00000146842','ENSMUST00000133470','ENSMUST00000139585'\n",
    " ,'ENSMUST00000145107','ENSMUST00000111098','ENSMUST00000111099','ENSMUST00000153944')\n",
    "counts = list()\n",
    "files= c('200774_S40','200775_S41','200776_S42','200777_S43')\n",
    "for (f in files)\n",
    "{\n",
    "tsv_file <- paste0(\"salmon_out/\",f,\"/quant.sf\")\n",
    "\n",
    "# Read the TSV file using read.table() or read.delim()\n",
    "data <- read.table(tsv_file, sep = \"\\t\", header = TRUE,row.names = 1)\n",
    "\n",
    "log= list()\n",
    "for (i in trans){\n",
    "log = c(log,(rownames(data)[grepl(paste0(\"^\",i), rownames(data))]))\n",
    "    \n",
    "}\n",
    "print(log)\n",
    "print(data[unlist(log),])\n",
    "counts = c(counts, data[unlist(log),])\n",
    "    }"
   ]
  },
  {
   "cell_type": "code",
   "execution_count": null,
   "id": "92278d5b",
   "metadata": {},
   "outputs": [],
   "source": [
    "counts"
   ]
  },
  {
   "cell_type": "code",
   "execution_count": null,
   "id": "e428c156",
   "metadata": {},
   "outputs": [],
   "source": []
  }
 ],
 "metadata": {
  "kernelspec": {
   "display_name": "R",
   "language": "R",
   "name": "ir"
  },
  "language_info": {
   "codemirror_mode": "r",
   "file_extension": ".r",
   "mimetype": "text/x-r-source",
   "name": "R",
   "pygments_lexer": "r",
   "version": "3.6.1"
  }
 },
 "nbformat": 4,
 "nbformat_minor": 5
}
