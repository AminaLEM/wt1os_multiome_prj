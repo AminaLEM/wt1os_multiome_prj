{
 "cells": [
  {
   "cell_type": "code",
   "execution_count": null,
   "id": "60deb4e9",
   "metadata": {
    "scrolled": true
   },
   "outputs": [],
   "source": [
    "library(clusterProfiler)\n",
    "library(dplyr)\n",
    "library(ggplot2)\n",
    "library(reshape2)\n",
    "library(tximport)\n",
    "library(DESeq2)\n",
    "library(pheatmap)\n",
    "# library(RColorBrewer)\n",
    "library(AnnotationDbi)\n",
    "library(vsn)\n",
    "library(DRIMSeq)\n",
    "library(stageR)\n",
    "library(ggrepel)\n",
    "library(org.Mm.eg.db)\n",
    "library(enrichplot)\n",
    "library(ReactomePA)\n"
   ]
  },
  {
   "cell_type": "markdown",
   "id": "80d460c4",
   "metadata": {},
   "source": [
    "#  Load data with tximport"
   ]
  },
  {
   "cell_type": "code",
   "execution_count": null,
   "id": "602b9f8e",
   "metadata": {},
   "outputs": [],
   "source": [
    "tx = c('CONTROL_REP1','CONTROL_REP2','KO_REP1','KO_REP2')\n",
    "samps= as.data.frame(cbind(tx,c('CONTROL','CONTROL','KO','KO')))\n",
    "colnames(samps)=c('sample_id','condition')\n",
    "files <- file.path(\"/data/lemsaraa/bulk_wt1os/nf_outs/star_salmon/\", samps$sample_id, \"quant.sf\")\n",
    "names(files) <- samps$sample_id\n",
    "head(files)"
   ]
  },
  {
   "cell_type": "code",
   "execution_count": null,
   "id": "95023dba",
   "metadata": {},
   "outputs": [],
   "source": [
    "# use scaledTPM as described in https://www.bioconductor.org/packages/release/workflows/vignettes/rnaseqDTU/inst/doc/rnaseqDTU.html"
   ]
  },
  {
   "cell_type": "code",
   "execution_count": null,
   "id": "de695a85",
   "metadata": {},
   "outputs": [],
   "source": [
    "txi <- tximport(files, type=\"salmon\", txOut=TRUE,\n",
    "                countsFromAbundance=\"scaledTPM\")\n",
    "cts <- txi$counts\n",
    "cts <- cts[rowSums(cts) > 0,]"
   ]
  },
  {
   "cell_type": "markdown",
   "id": "06a824f1",
   "metadata": {},
   "source": [
    "## Transcript-to-gene mapping\n"
   ]
  },
  {
   "cell_type": "code",
   "execution_count": null,
   "id": "1cae713e",
   "metadata": {},
   "outputs": [],
   "source": [
    "txdf=unique(read.table('nf_outs/star_salmon/salmon_tx2gene.tsv', sep='\\t'))\n",
    "colnames(txdf)= c('TXNAME','GENEID','GENENAME')\n",
    "rownames(txdf)=txdf$TXNAME"
   ]
  },
  {
   "cell_type": "code",
   "execution_count": null,
   "id": "28ddfa70",
   "metadata": {
    "scrolled": true
   },
   "outputs": [],
   "source": [
    "# cts <- cts[txdf$TXNAME,]\n",
    "txdf=txdf[rownames(cts),]\n",
    "all(rownames(cts) == txdf$TXNAME)\n",
    "counts <- data.frame(gene_id=txdf$GENEID,\n",
    "                     feature_id=txdf$TXNAME,\n",
    "                     cts)\n"
   ]
  },
  {
   "cell_type": "code",
   "execution_count": null,
   "id": "aad3c3bd",
   "metadata": {},
   "outputs": [],
   "source": [
    "dat=counts[c('ENSMUST00000135153','ENSMUST00000172701','ENSMUST00000099647','ENSMUST00000174870','ENSMUST00000245064'),]\n",
    "# dat$feature_id = rownames(dat)\n",
    "dat = dat[which(dat$gene_id != 'NA'),]\n",
    "dat = melt(dat, id=c('gene_id','feature_id'))\n",
    "ggplot(dat,                                      # Grouped barplot using ggplot2\n",
    "       aes(x = feature_id,\n",
    "           y = value,\n",
    "           fill =variable )) +\n",
    "  geom_bar(stat = \"identity\",\n",
    "           position = \"dodge\")+coord_flip()+scale_fill_manual(values = c(\"#054C70\",\"#054C55\",\"#05C3DE\",\"#05C3cF\")) + ggtitle('Wt1os')\n",
    "#   facet_wrap(~gene_id, ncol=1)"
   ]
  },
  {
   "cell_type": "code",
   "execution_count": null,
   "id": "eec989a9",
   "metadata": {},
   "outputs": [],
   "source": [
    "dat=counts[c(\n",
    " 'ENSMUST00000143043','ENSMUST00000146842','ENSMUST00000133470','ENSMUST00000139585'\n",
    " ,'ENSMUST00000145107','ENSMUST00000111098','ENSMUST00000111099','ENSMUST00000153944'),]\n",
    "# dat$feature_id = rownames(dat)\n",
    "dat = dat[which(dat$gene_id != 'NA'),]\n",
    "dat = melt(dat, id=c('gene_id','feature_id'))\n",
    "ggplot(dat,                                      # Grouped barplot using ggplot2\n",
    "       aes(x = feature_id,\n",
    "           y = value,\n",
    "           fill =variable )) +\n",
    "  geom_bar(stat = \"identity\",\n",
    "           position = \"dodge\")+coord_flip()+scale_fill_manual(values = c(\"#054C70\",\"#054C55\",\"#05C3DE\",\"#05C3cF\"))+ ggtitle('Wt1')\n",
    "#   facet_wrap(~gene_id, ncol=1)"
   ]
  },
  {
   "cell_type": "markdown",
   "id": "f73c9092",
   "metadata": {},
   "source": [
    "# DRIMSeq"
   ]
  },
  {
   "cell_type": "code",
   "execution_count": null,
   "id": "3b8f15f9",
   "metadata": {},
   "outputs": [],
   "source": [
    "# set min expresssion to 2 as we know that some transcripts from Wt1os have very low expression"
   ]
  },
  {
   "cell_type": "code",
   "execution_count": null,
   "id": "54ea8e59",
   "metadata": {},
   "outputs": [],
   "source": [
    "d <- dmDSdata(counts=counts, samples=samps)\n",
    "d\n",
    "methods(class=class(d))\n",
    "n <- 4\n",
    "n.small <- 1\n",
    "d <- dmFilter(d,\n",
    "              min_samps_feature_expr=n.small, min_feature_expr=2,\n",
    "              min_samps_gene_expr=n, min_gene_expr=2)\n",
    "d"
   ]
  },
  {
   "cell_type": "code",
   "execution_count": null,
   "id": "9ca4bba3",
   "metadata": {},
   "outputs": [],
   "source": [
    "design_full <- model.matrix(~condition, data=DRIMSeq::samples(d))\n",
    "colnames(design_full)"
   ]
  },
  {
   "cell_type": "code",
   "execution_count": null,
   "id": "3baf9c62",
   "metadata": {},
   "outputs": [],
   "source": [
    "set.seed(1)\n",
    "system.time({\n",
    "  d <- dmPrecision(d, design=design_full)\n",
    "  d <- dmFit(d, design=design_full)\n",
    "  d <- dmTest(d, coef=\"conditionKO\")\n",
    "})"
   ]
  },
  {
   "cell_type": "code",
   "execution_count": null,
   "id": "6d75a1e1",
   "metadata": {},
   "outputs": [],
   "source": [
    "# d = readRDS('d.rds')\n",
    "res <- DRIMSeq::results(d)\n",
    "head(res)"
   ]
  },
  {
   "cell_type": "code",
   "execution_count": null,
   "id": "89406a34",
   "metadata": {},
   "outputs": [],
   "source": [
    "res.txp <- DRIMSeq::results(d, level=\"feature\")\n",
    "head(res.txp)"
   ]
  },
  {
   "cell_type": "code",
   "execution_count": null,
   "id": "50b4a243",
   "metadata": {},
   "outputs": [],
   "source": [
    "no.na <- function(x) ifelse(is.na(x), 1, x)\n",
    "res$pvalue <- no.na(res$pvalue)\n",
    "res.txp$pvalue <- no.na(res.txp$pvalue)"
   ]
  },
  {
   "cell_type": "code",
   "execution_count": null,
   "id": "52426043",
   "metadata": {},
   "outputs": [],
   "source": [
    "# plot top gene\n"
   ]
  },
  {
   "cell_type": "code",
   "execution_count": null,
   "id": "4cff0496",
   "metadata": {},
   "outputs": [],
   "source": [
    "idx <- which(res$adj_pvalue < 0.05)[1]\n",
    "res[idx,]\n",
    "plotProportions(d, res$gene_id[idx], \"condition\", plot_main = T)\n"
   ]
  },
  {
   "cell_type": "code",
   "execution_count": null,
   "id": "bec91d5d",
   "metadata": {},
   "outputs": [],
   "source": [
    "# plot DTU for Wt1os gene \n",
    "plotProportions(d, 'ENSMUSG00000074987', \"condition\")\n"
   ]
  },
  {
   "cell_type": "code",
   "execution_count": null,
   "id": "8c391ca0",
   "metadata": {},
   "outputs": [],
   "source": [
    "plotProportions(d, 'ENSMUSG00000016458', \"condition\")\n"
   ]
  },
  {
   "cell_type": "code",
   "execution_count": null,
   "id": "0e0cabc2",
   "metadata": {},
   "outputs": [],
   "source": [
    "pScreen <- res$pvalue\n",
    "strp <- function(x) substr(x,1,20)\n",
    "names(pScreen) <- strp(res$gene_id)"
   ]
  },
  {
   "cell_type": "code",
   "execution_count": null,
   "id": "25dc06f9",
   "metadata": {},
   "outputs": [],
   "source": [
    "pConfirmation <- matrix(res.txp$pvalue, ncol=1)\n",
    "rownames(pConfirmation) <- strp(res.txp$feature_id)"
   ]
  },
  {
   "cell_type": "code",
   "execution_count": null,
   "id": "e7b13d20",
   "metadata": {},
   "outputs": [],
   "source": [
    "tx2gene <- res.txp[,c(\"feature_id\", \"gene_id\")]\n",
    "for (i in 1:2) tx2gene[,i] <- strp(tx2gene[,i])"
   ]
  },
  {
   "cell_type": "code",
   "execution_count": null,
   "id": "0c8025ba",
   "metadata": {},
   "outputs": [],
   "source": [
    "\n",
    "stageRObj <- stageRTx(pScreen=pScreen, pConfirmation=pConfirmation,\n",
    "                      pScreenAdjusted=FALSE, tx2gene=tx2gene)\n",
    "stageRObj <- stageWiseAdjustment(stageRObj, method=\"dtu\", alpha=0.1)\n",
    "suppressWarnings({\n",
    "  drim.padj <- getAdjustedPValues(stageRObj, order=FALSE,\n",
    "                                  onlySignificantGenes=TRUE)\n",
    "})\n",
    "drim.padj[which(drim.padj$geneID == 'ENSMUSG00000074987'),]"
   ]
  },
  {
   "cell_type": "code",
   "execution_count": null,
   "id": "5197e853",
   "metadata": {},
   "outputs": [],
   "source": [
    "saveRDS(d,'d.rds')"
   ]
  },
  {
   "cell_type": "code",
   "execution_count": null,
   "id": "1078e1e6",
   "metadata": {},
   "outputs": [],
   "source": [
    "d = readRDS('d.rds')"
   ]
  },
  {
   "cell_type": "markdown",
   "id": "ca145a1c",
   "metadata": {},
   "source": [
    "# DEXSeq"
   ]
  },
  {
   "cell_type": "code",
   "execution_count": null,
   "id": "3d684abd",
   "metadata": {},
   "outputs": [],
   "source": [
    "sample.data <- DRIMSeq::samples(d)\n",
    "count.data <- round(as.matrix(counts(d)[,-c(1:2)]))\n",
    "dxd <- DEXSeqDataSet(countData=count.data,\n",
    "                     sampleData=sample.data,\n",
    "                     design=~sample + exon + condition:exon,\n",
    "                     featureID=counts(d)$feature_id,\n",
    "                     groupID=counts(d)$gene_id)"
   ]
  },
  {
   "cell_type": "code",
   "execution_count": null,
   "id": "e5101677",
   "metadata": {},
   "outputs": [],
   "source": [
    "system.time({\n",
    "  dxd <- estimateSizeFactors(dxd)\n",
    "  dxd <- estimateDispersions(dxd, quiet=TRUE)\n",
    "  dxd <- testForDEU(dxd, reducedModel=~sample + exon)\n",
    "  dxd = estimateExonFoldChanges(dxd, fitExpToVar=\"condition\")\n",
    "})"
   ]
  },
  {
   "cell_type": "code",
   "execution_count": null,
   "id": "56472e88",
   "metadata": {},
   "outputs": [],
   "source": [
    "dxr <- DEXSeqResults(dxd, independentFiltering=FALSE)\n",
    "qval <- perGeneQValue(dxr)\n",
    "# dxr.g <- data.frame(gene=names(qval),qval)"
   ]
  },
  {
   "cell_type": "code",
   "execution_count": null,
   "id": "2b96dfcf",
   "metadata": {},
   "outputs": [],
   "source": [
    "columns <- c(\"featureID\",\"groupID\",\"pvalue\")\n",
    "dxr <- as.data.frame(dxr[,columns])\n",
    "head(dxr)"
   ]
  },
  {
   "cell_type": "code",
   "execution_count": null,
   "id": "358e5944",
   "metadata": {},
   "outputs": [],
   "source": [
    "strp <- function(x) substr(x,1,20)\n",
    "pConfirmation <- matrix(dxr$pvalue,ncol=1)\n",
    "dimnames(pConfirmation) <- list(strp(dxr$featureID),\"transcript\")\n",
    "pScreen <- qval\n",
    "names(pScreen) <- strp(names(pScreen))\n",
    "tx2gene <- as.data.frame(dxr[,c(\"featureID\", \"groupID\")])\n",
    "for (i in 1:2) tx2gene[,i] <- strp(tx2gene[,i])"
   ]
  },
  {
   "cell_type": "code",
   "execution_count": null,
   "id": "d52ae094",
   "metadata": {},
   "outputs": [],
   "source": [
    "stageRObj <- stageRTx(pScreen=pScreen, pConfirmation=pConfirmation,\n",
    "                      pScreenAdjusted=TRUE, tx2gene=tx2gene)\n",
    "stageRObj <- stageWiseAdjustment(stageRObj, method=\"dtu\", alpha=0.05)\n",
    "suppressWarnings({\n",
    "  dex.padj <- getAdjustedPValues(stageRObj, order=FALSE,\n",
    "                                 onlySignificantGenes=TRUE)\n",
    "})"
   ]
  },
  {
   "cell_type": "code",
   "execution_count": null,
   "id": "96828672",
   "metadata": {},
   "outputs": [],
   "source": [
    " c('ENSMUSG00000074987','ENSMUSG00000016458') %in% dex.padj$geneID \n"
   ]
  },
  {
   "cell_type": "code",
   "execution_count": null,
   "id": "a42f0da7",
   "metadata": {},
   "outputs": [],
   "source": [
    "dex.padj[which(dex.padj$geneID == 'ENSMUSG00000074987'),]"
   ]
  },
  {
   "cell_type": "markdown",
   "id": "a4a5f778",
   "metadata": {},
   "source": [
    "# DGE"
   ]
  },
  {
   "cell_type": "code",
   "execution_count": null,
   "id": "cc7742aa",
   "metadata": {},
   "outputs": [],
   "source": [
    "txi.g <- tximport(files, type=\"salmon\", tx2gene=txdf[,1:2])\n"
   ]
  },
  {
   "cell_type": "code",
   "execution_count": null,
   "id": "9b25fa39",
   "metadata": {},
   "outputs": [],
   "source": [
    "dds <- DESeqDataSetFromTximport(txi.g, samps, ~condition)\n"
   ]
  },
  {
   "cell_type": "code",
   "execution_count": null,
   "id": "6311d0f0",
   "metadata": {},
   "outputs": [],
   "source": [
    "nrow(dds)\n",
    "keep <- rowSums(counts(dds) >= 10) >= 1\n",
    "dds <- dds[keep,]\n",
    "nrow(dds)\n",
    "#transformation\n",
    "meanSdPlot(assay(dds), ranks = FALSE)\n",
    "\n",
    "vsd <- vst(dds, blind = TRUE)\n",
    "meanSdPlot(assay(vsd), ranks = FALSE)"
   ]
  },
  {
   "cell_type": "code",
   "execution_count": null,
   "id": "4f90044c",
   "metadata": {},
   "outputs": [],
   "source": [
    "plotPCA(vsd, intgroup = c(\"condition\"))"
   ]
  },
  {
   "cell_type": "code",
   "execution_count": null,
   "id": "4c3742d0",
   "metadata": {},
   "outputs": [],
   "source": [
    "dds <- estimateSizeFactors(dds)\n",
    "dds$condition= relevel(dds$condition, ref= 'CONTROL')\n",
    "\n",
    "dds <- DESeq(dds)\n",
    "dres <- DESeq2::results(dds)"
   ]
  },
  {
   "cell_type": "code",
   "execution_count": null,
   "id": "e70fe5a4",
   "metadata": {},
   "outputs": [],
   "source": [
    "summary(dres)\n",
    "resSig <- subset(dres, padj < 0.1)\n",
    "resSig"
   ]
  },
  {
   "cell_type": "code",
   "execution_count": null,
   "id": "f5b65253",
   "metadata": {},
   "outputs": [],
   "source": [
    "# library(\"ashr\")\n",
    "# resultsNames(dds)\n",
    "# res <- lfcShrink(dds, coef=\"condition_KO_vs_CONTROL\", type=\"ashr\")\n",
    "# plotMA(res, ylim = c(-30, 20))"
   ]
  },
  {
   "cell_type": "code",
   "execution_count": null,
   "id": "2bb2680f",
   "metadata": {},
   "outputs": [],
   "source": [
    "library(\"genefilter\")\n",
    "topVarGenes <- c('ENSMUSG00000074987','ENSMUSG00000016458')\n",
    "mat  <- assay(vsd)[topVarGenes, ]\n",
    "# mat  <- mat - rowMeans(mat)\n",
    "rownames(mat)=c('Wt1os','Wt1')\n",
    "anno <- as.data.frame(colData(vsd)[, c(\"condition\")])\n",
    "pheatmap(mat,cluster_rows = F, cluster_cols = F,cellwidth = 100,cellheight = 100)"
   ]
  },
  {
   "cell_type": "code",
   "execution_count": null,
   "id": "12b05e8e",
   "metadata": {},
   "outputs": [],
   "source": [
    "gene_id=unique(read.table('nf_outs/star_salmon/salmon_tx2gene.tsv', sep='\\t',row.names = 1))\n",
    "colnames(gene_id)=c('symbol','name')\n",
    "resSig$symbol=rownames(resSig)\n",
    "resSig=merge(as.data.frame(resSig), gene_id, by= 'symbol')"
   ]
  },
  {
   "cell_type": "code",
   "execution_count": null,
   "id": "ffb0bb44",
   "metadata": {
    "scrolled": true
   },
   "outputs": [],
   "source": [
    "topVarGenes <- resSig$symbol\n",
    "mat  <- assay(vsd)[topVarGenes, ]\n",
    "# mat  <- mat - rowMeans(mat)\n",
    "rownames(mat)=as.character(resSig$name)\n",
    "anno <- as.data.frame(colData(vsd)[, c(\"condition\")])\n",
    "pheatmap(mat)"
   ]
  },
  {
   "cell_type": "code",
   "execution_count": null,
   "id": "2f945116",
   "metadata": {},
   "outputs": [],
   "source": [
    "topg= c(topVarGenes,c('ENSMUSG00000074987','ENSMUSG00000016458'))\n",
    "resu=as.data.frame(dres)\n",
    "resu$symbol=rownames(resu)\n",
    "resu=merge(resu, gene_id, by= 'symbol')\n",
    "top_proteins <- resu[which( resu$symbol %in% topg),]\n",
    "\n",
    "p=ggplot(resu, aes(x=log2FoldChange, y=-log10(pvalue))) + \n",
    "  geom_point(color=\"black\", alpha=0.6, size=1) +\n",
    "  ggtitle('..') +   \n",
    "  scale_x_continuous(\"Log Fold Change\") +\n",
    "  scale_y_continuous(\"-Log10(p-value)\") +\n",
    "  geom_hline(yintercept=-log10(0.05), linetype=\"dashed\", color=\"red\") +\n",
    "  geom_vline(xintercept=c(-1,1), linetype=\"dashed\", color=\"blue\") +\n",
    "  geom_text_repel(data=top_proteins, aes(x=log2FoldChange, y=-log10(pvalue), label=top_proteins$name), size=3,\n",
    "                     segment.color = 'black',\n",
    "    colour = \"red\", box.padding = 0.5 # assign it here\n",
    ")    \n",
    "p\n"
   ]
  },
  {
   "cell_type": "code",
   "execution_count": null,
   "id": "5f4a030c",
   "metadata": {},
   "outputs": [],
   "source": [
    "gene.df <- bitr(resu$symbol, fromType = \"ENSEMBL\",\n",
    "        toType = c(\"ENTREZID\", \"SYMBOL\"),\n",
    "        OrgDb = org.Mm.eg.db)\n",
    "resu=merge(resu, gene.df, by.x = 'symbol',by.y='ENSEMBL')"
   ]
  },
  {
   "cell_type": "code",
   "execution_count": null,
   "id": "5826667f",
   "metadata": {},
   "outputs": [],
   "source": [
    "# theme_s=theme(plot.margin = margin(0.5,0.5,0.5,0.5, \"cm\"),\n",
    "#               plot.caption = element_text(color = \"red\", face = \"bold\"),\n",
    "#              plot.title = element_text(color = \"black\", size = 24, face = \"bold\"),\n",
    "#   plot.subtitle = element_text(color = \"blue\"),\n",
    "             \n",
    "#              legend.text = element_text(size=20),text =element_text(size=20),axis.title = element_text(size = 16)\n",
    "#          , title =element_text(size=20) \n",
    "#              )\n",
    "\n",
    "# inter= function(o,enrich){\n",
    "\n",
    "# cont=FALSE\n",
    "    \n",
    "# for (oo in c('CC','BP','MF')){\n",
    "# deg=resu\n",
    "# deg1 <- deg[deg$pvalue<0.1 & abs(deg$log2FoldChange)>1,]\n",
    "    \n",
    "# # differentially expressed genes ids\n",
    "# degs <- deg1$ENTREZID\n",
    "# # all gene ids\n",
    "# bgs <- deg$ENTREZID\n",
    "# mydf <- data.frame(Entrez=degs, FC=deg1$log2FoldChange)\n",
    "# mydf$group <- \"upregulated\"\n",
    "# mydf$group[mydf$FC < 0] <- \"downregulated\"\n",
    "# if (o=='MKEGG'){\n",
    "\n",
    "# formula_res_ <- compareCluster(Entrez~group, data=mydf, fun=\"enrichMKEGG\",organism='mmu',universe=bgs)\n",
    "# }else{\n",
    "# formula_res_ <- compareCluster(Entrez~group, data=mydf, fun=enrich,keyType =\"ENTREZID\",universe=bgs,OrgDb=org.Mm.eg.db,ont=oo,\n",
    "#                     readable=TRUE)\n",
    "#     }\n",
    "# if (cont && (class(formula_res_) =='compareClusterResult')){\n",
    "# interMat= as.data.frame(formula_res_@compareClusterResult) \n",
    "# interMat$name= oo\n",
    "# formula_res = rbind(formula_res,interMat)\n",
    "\n",
    "#     }else{\n",
    "#     if ( class(formula_res_) == 'compareClusterResult'){formula_res=as.data.frame(formula_res_@compareClusterResult)\n",
    "#                                                         formula_res$name=oo\n",
    "#                                                        cont= TRUE}}\n",
    "\n",
    "#   }\n",
    "#    # select top 10 go terms \n",
    "# col=colnames(formula_res)[grep(\"p.adjust\", colnames(formula_res)) ]\n",
    "# selected_rows <- sapply(col, function(x) formula_res %>% group_by(name,group) %>%  top_n(n=-10\n",
    "#                            , wt=!!sym(x)) %>% ungroup() %>% dplyr::select(ID))\n",
    "# selected_rows=unlist(selected_rows)\n",
    "# sel_formula_res = formula_res[formula_res$ID %in% selected_rows,]     \n",
    "# sel_formula_res= sel_formula_res[,c('group','name','Description','GeneRatio','p.adjust')]\n",
    "# sel_formula_res$GeneRatio=sapply(sel_formula_res$GeneRatio, function(x) eval(parse(text = x)))\n",
    "# sel_formula_res$Description= factor(sel_formula_res$Description, levels=unique(sel_formula_res$Description))\n",
    " \n",
    "# # Create a dot plot\n",
    "# p4 = ggplot(sel_formula_res, aes(x = name, y = Description, color = p.adjust, size=GeneRatio)) +\n",
    "#   geom_point(aes(shape=group)) +\n",
    "#       labs(x = \"Contrast\", y = \"\", title = paste0(o,\" Ontology\")) +\n",
    "# theme(axis.text.x = element_text(angle = 90, vjust = 0.5, hjust=1))+theme_s\n",
    "# return(p4)   \n",
    "# }"
   ]
  },
  {
   "cell_type": "code",
   "execution_count": null,
   "id": "fb61b2b7",
   "metadata": {},
   "outputs": [],
   "source": [
    " \n",
    "\n",
    "# #CC\n",
    "# p4=inter('CC','enrichGO')\n",
    "# p7=inter('MKEGG','enrichMKEGG')\n",
    "\n",
    "#BP\n"
   ]
  },
  {
   "cell_type": "code",
   "execution_count": null,
   "id": "d5288fba",
   "metadata": {},
   "outputs": [],
   "source": [
    "# pdf(file = paste0('figures.pdf'),\n",
    "#     # The directory you want to save the file in\n",
    "#     width = 14, # The width of the plot in inches\n",
    "#     height = 18) # The height of the plot in inches\n",
    "\n",
    "# p4\n",
    "# p7\n",
    "\n",
    "# dev.off()"
   ]
  },
  {
   "cell_type": "code",
   "execution_count": null,
   "id": "33563f85",
   "metadata": {},
   "outputs": [],
   "source": [
    "theme_s=theme(plot.margin = margin(0.5,0.5,0.5,0.5, \"cm\"),\n",
    "              plot.caption = element_text(color = \"red\", face = \"bold\"),\n",
    "             plot.title = element_text(color = \"black\", size = 24, face = \"bold\"),\n",
    "  plot.subtitle = element_text(color = \"blue\"),\n",
    "             \n",
    "             legend.text = element_text(size=20),text =element_text(size=20),axis.title = element_text(size = 16)\n",
    "         , title =element_text(size=20) \n",
    "             )\n",
    "\n",
    "plots <- function(ek, num=10) {\n",
    "if (class(ek) %in% c('enrichResult','gseaResult')){\n",
    "\n",
    "tryCatch(expr={ek=simplify(ek)},\n",
    "         error = function(e) {\n",
    "    print('ok tryCatch....')  })\n",
    "tryCatch({\n",
    "p1 <- barplot(ek,showCategory=num)+theme_s\n",
    "p2 <- dotplot(ek,showCategory=num)+theme_s\n",
    "sim_mat <- pairwise_termsim(ek)\n",
    "p3=emapplot(sim_mat)+theme_s\n",
    "bg <- deg$log2FoldChange\n",
    "names(bg) <- as.character(deg$ENTREZID)\n",
    "\n",
    "p4=cnetplot(ek,foldChange=bg)+theme_s\n",
    "p5=heatplot(ek,foldChange=bg)+coord_flip()+theme_s\n",
    "    \n",
    "pdf(file = paste0(name,ek@ontology,'.pdf'),\n",
    "    # The directory you want to save the file in\n",
    "    width = 7, # The width of the plot in inches\n",
    "    height = 7) # The height of the plot in inches\n",
    "\n",
    "print(p1)\n",
    "print(p2)\n",
    "print(p3)\n",
    "print(p4)    \n",
    "dev.off()\n",
    "\n",
    "pdf(file = paste0(name,ek@ontology,'heatmap','.pdf'),\n",
    "    # The directory you want to save the file in\n",
    "    width = 10, # The width of the plot in inches\n",
    "    height = 10) # The height of the plot in inches\n",
    "\n",
    "print(p5)    \n",
    "dev.off()\n",
    "},error = function(e) {\n",
    "    print('ok')  })\n",
    "         \n",
    "}\n",
    "}\n",
    "\n",
    "dotplots <- function(ek, num=10) {\n",
    "    if (class(ek) %in% c('enrichResult','compareClusterResult')){\n",
    "    p=dotplot(ek,showCategory=num)+theme_s\n",
    "    }else{\n",
    "    p=NULL\n",
    "    }\n",
    "        return(p)\n",
    "    }"
   ]
  },
  {
   "cell_type": "code",
   "execution_count": null,
   "id": "87d97deb",
   "metadata": {},
   "outputs": [],
   "source": [
    "stageRObj <- stageWiseAdjustment(stageRObj, method=\"dtu\", alpha=0.05)\n",
    "suppressWarnings({\n",
    "  dex.padj <- getAdjustedPValues(stageRObj, order=FALSE,\n",
    "                                 onlySignificantGenes=TRUE)\n",
    "})\n",
    "gene.df <- bitr(counts(d)$gene_id, fromType = \"ENSEMBL\",\n",
    "        toType = c(\"ENTREZID\", \"SYMBOL\"),\n",
    "        OrgDb = org.Mm.eg.db)\n",
    "resu_dtu=merge(counts(d), gene.df, by.x = 'gene_id',by.y='ENSEMBL')                 \n",
    "resu_dtu= unique(resu_dtu[,c('gene_id','ENTREZID')])                \n",
    "dex.padj_gene= merge(dex.padj, resu_dtu, by.x = 'geneID',by.y='gene_id') \n",
    "length(unique(dex.padj_gene$geneID))\n",
    " name='KOvsCTRL_DTU'\n",
    "# differentially expressed genes ids\n",
    "degs <- unique(dex.padj_gene$ENTREZID )\n",
    "# all gene ids\n",
    "bgs <- unique(resu_dtu$ENTREZID)\n",
    "\n",
    "print('start')\n",
    "ego_cc <- enrichGO(gene=degs,keyType =\"ENTREZID\",universe=bgs,OrgDb=org.Mm.eg.db,ont=\"CC\",\n",
    "                    readable=TRUE)\n",
    "ego_bp <- enrichGO(gene=degs ,keyType =\"ENTREZID\",universe=bgs,OrgDb=org.Mm.eg.db,ont=\"BP\",\n",
    "                    readable=TRUE)\n",
    "ego_mf <- enrichGO(gene=degs,keyType =\"ENTREZID\",universe=bgs,OrgDb=org.Mm.eg.db,ont=\"MF\",\n",
    "                    readable=TRUE)\n",
    "ek <- enrichMKEGG(gene=degs,organism='mmu', universe =bgs )\n",
    "plots(ego_cc)\n",
    "plots(ego_bp)\n",
    "plots(ego_mf)\n",
    "plots(ek)\n",
    "ek <- enrichKEGG(gene=degs,organism='mmu', universe =bgs )\n",
    "plots(ek)\n",
    "\n",
    "print('comparison')\n",
    "mydf <- data.frame(Entrez=deg1$ENTREZID, FC=deg1$log2FoldChange)\n",
    "mydf$group <- \"upregulated\"\n",
    "mydf$group[mydf$FC < 0] <- \"downregulated\"\n",
    "\n",
    "formula_res <- compareCluster(Entrez~group, data=mydf, fun=\"enrichGO\",keyType =\"ENTREZID\",universe=bgs,OrgDb=org.Mm.eg.db,ont=\"CC\",\n",
    "                    readable=TRUE)\n",
    "p1= dotplots(formula_res)\n",
    "\n",
    "formula_res <- compareCluster(Entrez~group, data=mydf, fun=\"enrichGO\",keyType =\"ENTREZID\",universe=bgs,OrgDb=org.Mm.eg.db,ont=\"BP\",\n",
    "                    readable=TRUE)\n",
    "p2= dotplots(formula_res)\n",
    "\n",
    "formula_res <- compareCluster(Entrez~group, data=mydf, fun=\"enrichGO\",keyType =\"ENTREZID\",universe=bgs,OrgDb=org.Mm.eg.db,ont=\"MF\",\n",
    "                    readable=TRUE)\n",
    "p3 =dotplots(formula_res)\n",
    "\n",
    "    \n",
    "formula_res <- compareCluster(Entrez~group, data=mydf, fun=\"enrichMKEGG\",organism='mmu',universe=bgs)\n",
    "p4=dotplots(formula_res)\n",
    "formula_res <- compareCluster(Entrez~group, data=mydf, fun=\"enrichKEGG\",organism='mmu',universe=bgs)\n",
    "p5=dotplots(formula_res)\n",
    "pdf(file = paste0(name,'_compareclusters','.pdf'),\n",
    "    # The directory you want to save the file in\n",
    "    width = 7, # The width of the plot in inches\n",
    "    height = 7) # The height of the plot in inches\n",
    "\n",
    "print(p1)\n",
    "print(p2)\n",
    "print(p3)\n",
    "print(p4)\n",
    "print(p5)\n",
    "dev.off()\n"
   ]
  },
  {
   "cell_type": "code",
   "execution_count": null,
   "id": "f66179c0",
   "metadata": {},
   "outputs": [],
   "source": [
    "\n",
    " name='KOvsCTRL'\n",
    " deg=resu\n",
    " deg1 <- deg[ deg$pvalue <0.05 & abs(deg$log2FoldChange)>1,]\n",
    "    \n",
    "# differentially expressed genes ids\n",
    "degs <- deg1$ENTREZID\n",
    "# all gene ids\n",
    "bgs <- deg$ENTREZID\n",
    "\n",
    "print('start')\n",
    "ego_cc <- enrichGO(gene=degs,keyType =\"ENTREZID\",universe=bgs,OrgDb=org.Mm.eg.db,ont=\"CC\",\n",
    "                    readable=TRUE)\n",
    "ego_bp <- enrichGO(gene=degs ,keyType =\"ENTREZID\",universe=bgs,OrgDb=org.Mm.eg.db,ont=\"BP\",\n",
    "                    readable=TRUE)\n",
    "ego_mf <- enrichGO(gene=degs,keyType =\"ENTREZID\",universe=bgs,OrgDb=org.Mm.eg.db,ont=\"MF\",\n",
    "                    readable=TRUE)\n",
    "ek <- enrichMKEGG(gene=degs,organism='mmu', universe =bgs )\n",
    "plots(ego_cc)\n",
    "plots(ego_bp)\n",
    "plots(ego_mf)\n",
    "plots(ek)\n",
    "ek <- enrichKEGG(gene=degs,organism='mmu', universe =bgs )\n",
    "plots(ek)\n",
    "\n",
    "print('comparison')\n",
    "mydf <- data.frame(Entrez=deg1$ENTREZID, FC=deg1$log2FoldChange)\n",
    "mydf$group <- \"upregulated\"\n",
    "mydf$group[mydf$FC < 0] <- \"downregulated\"\n",
    "\n",
    "formula_res <- compareCluster(Entrez~group, data=mydf, fun=\"enrichGO\",keyType =\"ENTREZID\",universe=bgs,OrgDb=org.Mm.eg.db,ont=\"CC\",\n",
    "                    readable=TRUE)\n",
    "p1= dotplots(formula_res)\n",
    "\n",
    "formula_res <- compareCluster(Entrez~group, data=mydf, fun=\"enrichGO\",keyType =\"ENTREZID\",universe=bgs,OrgDb=org.Mm.eg.db,ont=\"BP\",\n",
    "                    readable=TRUE)\n",
    "p2= dotplots(formula_res)\n",
    "\n",
    "formula_res <- compareCluster(Entrez~group, data=mydf, fun=\"enrichGO\",keyType =\"ENTREZID\",universe=bgs,OrgDb=org.Mm.eg.db,ont=\"MF\",\n",
    "                    readable=TRUE)\n",
    "p3 =dotplots(formula_res)\n",
    "\n",
    "    \n",
    "formula_res <- compareCluster(Entrez~group, data=mydf, fun=\"enrichMKEGG\",organism='mmu',universe=bgs)\n",
    "p4=dotplots(formula_res)\n",
    "formula_res <- compareCluster(Entrez~group, data=mydf, fun=\"enrichKEGG\",organism='mmu',universe=bgs)\n",
    "p5=dotplots(formula_res)\n",
    "pdf(file = paste0(name,'_compareclusters','.pdf'),\n",
    "    # The directory you want to save the file in\n",
    "    width = 7, # The width of the plot in inches\n",
    "    height = 7) # The height of the plot in inches\n",
    "\n",
    "print(p1)\n",
    "print(p2)\n",
    "print(p3)\n",
    "print(p4)\n",
    "print(p5)\n",
    "dev.off()\n"
   ]
  },
  {
   "cell_type": "code",
   "execution_count": null,
   "id": "28c554ec",
   "metadata": {},
   "outputs": [],
   "source": [
    "\n",
    " name='KOvsCTRL_reactome'\n",
    " deg=resu\n",
    "\n",
    "\n",
    "    \n",
    "\n",
    "    \n",
    "deg1 <- deg$log2FoldChange\n",
    "deg1 <- deg1[!is.na(deg1)]\n",
    "names(deg1) <- deg$ENTREZID\n",
    "degs1 = sort(deg1, decreasing = TRUE)\n",
    "    \n",
    "deg1 <- deg[ deg$pvalue <0.05 & abs(deg$log2FoldChange)>1,]\n",
    "\n",
    "\n",
    "ek <- enrichPathway(gene=deg1$ENTREZID,organism='mouse',universe = deg$ENTREZID)\n",
    "    \n",
    "\n",
    "    \n",
    "plots(ek)\n",
    "    \n",
    "print('comparison')\n",
    "mydf <- data.frame(Entrez=deg1$ENTREZID, FC=deg1$log2FoldChange)\n",
    "mydf$group <- \"upregulated\"\n",
    "mydf$group[mydf$FC < 0] <- \"downregulated\"\n",
    "\n",
    "formula_res <- compareCluster(Entrez~group, data=mydf, fun=\"enrichPathway\",organism='mouse',universe = deg$ENTREZID)\n",
    "p2=dotplots(formula_res)\n",
    "\n",
    "pdf(file = paste0(name,'_compareclusters','.pdf'),\n",
    "    # The directory you want to save the file in\n",
    "    width = 7, # The width of the plot in inches\n",
    "    height = 7) # The height of the plot in inches\n",
    "\n",
    "print(p2)\n",
    "dev.off()\n"
   ]
  },
  {
   "cell_type": "markdown",
   "id": "eb51376a",
   "metadata": {},
   "source": [
    "# GSEA"
   ]
  },
  {
   "cell_type": "code",
   "execution_count": null,
   "id": "cbeac6c9",
   "metadata": {},
   "outputs": [],
   "source": [
    "plots <- function(ek, num=10) {\n",
    "if (class(ek) %in% c('enrichResult','gseaResult')){\n",
    "\n",
    "tryCatch(expr={ek=simplify(ek)},\n",
    "         error = function(e) {\n",
    "    print('ok')  })\n",
    "tryCatch(expr={\n",
    "p2 <- dotplot(ek,x=\"NES\",showCategory=num,orderBy = \"NES\")+theme_s\n",
    "sim_mat <- pairwise_termsim(ek)\n",
    "p3=emapplot(sim_mat,orderBy = \"NES\", color = \"NES\")+theme_s\n",
    "bg <- deg$log2FoldChange\n",
    "names(bg) <- as.character(deg$name)\n",
    "\n",
    "p4=cnetplot(ek,foldChange=bg)+theme_s\n",
    "p5=heatplot(ek,foldChange=bg)+coord_flip()+theme_s\n",
    "    \n",
    "pdf(file = paste0(name,ek@setType,'.pdf'),\n",
    "    # The directory you want to save the file in\n",
    "    width = 7, # The width of the plot in inches\n",
    "    height = 7) # The height of the plot in inches\n",
    "\n",
    "print(p2)\n",
    "print(p3)\n",
    "print(p4)    \n",
    "dev.off()\n",
    "\n",
    "pdf(file = paste0(name,ek@setType,'heatmap','.pdf'),\n",
    "    # The directory you want to save the file in\n",
    "    width = 10, # The width of the plot in inches\n",
    "    height = 10) # The height of the plot in inches\n",
    "\n",
    "print(p5)    \n",
    "dev.off()\n",
    "},         error = function(e) {\n",
    "    print('ok tryCatch...')  }\n",
    "         )\n",
    "         \n",
    "}}\n"
   ]
  },
  {
   "cell_type": "code",
   "execution_count": null,
   "id": "b0bba341",
   "metadata": {},
   "outputs": [],
   "source": [
    "# name='GSEA_KOvsCTRL'\n",
    "\n",
    "# deg=resu\n",
    "# deg1 <- deg$log2FoldChange\n",
    "# deg1 <- deg1[!is.na(deg1)]\n",
    "# names(deg1) <- deg$ENTREZID\n",
    "# degs1 = sort(deg1, decreasing = TRUE)\n",
    "# res_inter=list()\n",
    "# print('start')\n",
    "# ego_cc <- gseGO(geneList=degs1,pvalueCutoff=0.05,keyType =\"ENTREZID\",OrgDb=org.Mm.eg.db,ont=\"CC\")\n",
    "# res_inter['ego_cc']= ego_cc                    \n",
    "# ego_bp <- gseGO(geneList=degs1,pvalueCutoff=0.05 ,keyType =\"ENTREZID\",OrgDb=org.Mm.eg.db,ont=\"BP\")\n",
    "# res_inter['ego_bp']=ego_bp                                        \n",
    "# ego_mf <- gseGO(geneList=degs1,pvalueCutoff=0.05,keyType =\"ENTREZID\",OrgDb=org.Mm.eg.db,ont=\"MF\")\n",
    "# res_inter['ego_mf']=ego_mf                                       \n",
    "# ek <- gseMKEGG(geneList=degs1,pvalueCutoff=0.05,organism='mmu')\n",
    "\n",
    "# res_inter['ek']=ek \n",
    "# ek2 <- gseKEGG(geneList=degs1,pvalueCutoff=0.05,organism='mmu')\n",
    "# res_inter['ek']=ek2 \n",
    "\n",
    "plots(ego_cc)\n",
    "plots(ego_bp)\n",
    "plots(ego_mf)\n",
    "plots(ek)\n",
    "plots(ek2)\n"
   ]
  },
  {
   "cell_type": "code",
   "execution_count": null,
   "id": "0552d470",
   "metadata": {},
   "outputs": [],
   "source": []
  }
 ],
 "metadata": {
  "kernelspec": {
   "display_name": "R",
   "language": "R",
   "name": "ir"
  },
  "language_info": {
   "codemirror_mode": "r",
   "file_extension": ".r",
   "mimetype": "text/x-r-source",
   "name": "R",
   "pygments_lexer": "r",
   "version": "4.2.3"
  }
 },
 "nbformat": 4,
 "nbformat_minor": 5
}
