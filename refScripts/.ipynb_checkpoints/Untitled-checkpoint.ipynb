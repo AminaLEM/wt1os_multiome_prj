{
 "cells": [
  {
   "cell_type": "code",
   "execution_count": 93,
   "id": "a9f3308e",
   "metadata": {},
   "outputs": [],
   "source": [
    "import matplotlib.pyplot as plt\n",
    "import pysam\n"
   ]
  },
  {
   "cell_type": "code",
   "execution_count": 5,
   "id": "b6d4f2ef",
   "metadata": {},
   "outputs": [
    {
     "name": "stdout",
     "output_type": "stream",
     "text": [
      "Number of reads overlapping region: 153595\n"
     ]
    }
   ],
   "source": [
    "\n",
    "bam_file = pysam.AlignmentFile(\"bam-ko/sorted_ctrl1.bam\", \"rb\")\n",
    "\n",
    "# define the region of interest\n",
    "chromosome = \"chr2\"\n",
    "start_position = 24053\n",
    "end_position = 24223\n",
    "\n",
    "# iterate over the reads that overlap the region of interest\n",
    "count = 0\n",
    "for read in bam_file.fetch(chromosome, start_position, end_position):\n",
    "    if read.reference_start <= start_position and read.reference_end >= end_position:\n",
    "        count += 1\n",
    "\n",
    "print(\"Number of reads overlapping region:\", count)"
   ]
  },
  {
   "cell_type": "code",
   "execution_count": 6,
   "id": "f869d1f2",
   "metadata": {},
   "outputs": [
    {
     "name": "stdout",
     "output_type": "stream",
     "text": [
      "Number of reads overlapping region: 153743\n"
     ]
    }
   ],
   "source": [
    "\n",
    "# define the region of interest\n",
    "chromosome = \"chr2\"\n",
    "start_position = 24153\n",
    "end_position = 24223\n",
    "\n",
    "# iterate over the reads that overlap the region of interest\n",
    "count = 0\n",
    "for read in bam_file.fetch(chromosome, start_position, end_position):\n",
    "    if read.reference_start <= start_position and read.reference_end >= end_position:\n",
    "        count += 1\n",
    "\n",
    "print(\"Number of reads overlapping region:\", count)"
   ]
  },
  {
   "cell_type": "code",
   "execution_count": 82,
   "id": "ab4664f9",
   "metadata": {},
   "outputs": [
    {
     "name": "stdout",
     "output_type": "stream",
     "text": [
      "Number of reads overlapping region: 37\n"
     ]
    }
   ],
   "source": [
    "bam_file = pysam.AlignmentFile(\"bams/sorted_ko1.bam\", \"rb\")\n",
    "\n",
    "# define the region of interest\n",
    "chromosome = \"chr2\"\n",
    "start_position = 105093630\n",
    "end_position = 105126403\n",
    "\n",
    "# iterate over the reads that overlap the region of interest\n",
    "count = 0\n",
    "for read in bam_file.fetch(chromosome, start_position, end_position):\n",
    "    if not read.is_unmapped and ((read.reference_start <= start_position and read.reference_end >= start_position) or (read.reference_start <= end_position and read.reference_end >= start_position))and read.mapping_quality!=255 and read.mapping_quality>0:\n",
    "#         print (read.reference_start)\n",
    "#         print (read.reference_end)\n",
    "#         print (read.query_length)        \n",
    "#         print(read.mapping_quality)\n",
    "#         print(read.query_name)        \n",
    "        count += 1\n",
    "\n",
    "print(\"Number of reads overlapping region:\", count)"
   ]
  },
  {
   "cell_type": "code",
   "execution_count": 83,
   "id": "50a568ad",
   "metadata": {},
   "outputs": [
    {
     "name": "stdout",
     "output_type": "stream",
     "text": [
      "Number of reads overlapping region: 139\n"
     ]
    }
   ],
   "source": [
    "bam_file = pysam.AlignmentFile(\"bams/sorted_ctrl1.bam\", \"rb\")\n",
    "\n",
    "# define the region of interest\n",
    "chromosome = \"chr2\"\n",
    "start_position = 105093630\n",
    "end_position = 105126403\n",
    "\n",
    "# iterate over the reads that overlap the region of interest\n",
    "count = 0\n",
    "for read in bam_file.fetch(chromosome, start_position, end_position):\n",
    "    if not read.is_unmapped and ((read.reference_start <= start_position and read.reference_end >= start_position) or (read.reference_start <= end_position and read.reference_end >= start_position))and read.mapping_quality!=255 and read.mapping_quality>0:\n",
    "#         print (read.reference_start)\n",
    "#         print (read.reference_end)\n",
    "#         print (read.query_length)        \n",
    "#         print(read.mapping_quality)\n",
    "#         print(read.query_name)        \n",
    "        count += 1\n",
    "\n",
    "print(\"Number of reads overlapping region:\", count)"
   ]
  },
  {
   "cell_type": "code",
   "execution_count": 111,
   "id": "c7da75cc",
   "metadata": {},
   "outputs": [
    {
     "name": "stdout",
     "output_type": "stream",
     "text": [
      "Number of reads overlapping region: 30868\n"
     ]
    },
    {
     "data": {
      "image/png": "[encoded data removed]",
      "text/plain": [
       "<Figure size 640x480 with 1 Axes>"
      ]
     },
     "metadata": {},
     "output_type": "display_data"
    }
   ],
   "source": [
    "files = ['ctrl1','ctrl2','ko1','ko2']\n",
    "count_list={}\n",
    "for file in files:\n",
    "    bam_file = pysam.AlignmentFile(\"bam-ko/sorted_\"+file+\".bam\", \"rb\")\n",
    "\n",
    "    # define the region of interest\n",
    "    chromosome = \"chr2\"\n",
    "    start_position = 24084\n",
    "    end_position = 24134\n",
    "\n",
    "    # iterate over the reads that overlap the region of interest\n",
    "    count = 0\n",
    "    for read in bam_file.fetch(chromosome, start_position, end_position):\n",
    "        if not read.is_unmapped and ((read.reference_start <= start_position and read.reference_end >= start_position) or (read.reference_start <= end_position and read.reference_end >= start_position))and read.mapping_quality!=255 and read.mapping_quality>0:\n",
    "    #         print (read.reference_start)\n",
    "    #         print (read.reference_end)\n",
    "    #         print (read.query_length)        \n",
    "    #         print(read.mapping_quality)\n",
    "    #         print(read.query_name)        \n",
    "            count += 1\n",
    "    bam_file.close()  # Close the BAM file\n",
    "    count_list[file]=count\n",
    "print(\"Number of reads overlapping region:\", count)\n",
    "\n",
    "fig, ax = plt.subplots()\n",
    "ax.bar(count_list.keys(), count_list.values())\n",
    "ax.set_xlabel('Samples')\n",
    "ax.set_title('Number of reads overlapping with the region of interest\\n GGGCAGCATTCCCATCTCCAGCTCCCCCTCCCCCGACTCGATTGTACGTG')\n",
    "plt.show()\n"
   ]
  },
  {
   "cell_type": "code",
   "execution_count": 116,
   "id": "4efd9efc",
   "metadata": {},
   "outputs": [
    {
     "name": "stdout",
     "output_type": "stream",
     "text": [
      "Number of reads overlapping region: 31139\n"
     ]
    },
    {
     "data": {
      "image/png": "[encoded data removed]",
      "text/plain": [
       "<Figure size 640x480 with 1 Axes>"
      ]
     },
     "metadata": {},
     "output_type": "display_data"
    }
   ],
   "source": [
    "files = ['ctrl1','ctrl2','ko1','ko2']\n",
    "count_list={}\n",
    "for file in files:\n",
    "    bam_file = pysam.AlignmentFile(\"bam-ko/sorted_\"+file+\".bam\", \"rb\")\n",
    "\n",
    "    # define the region of interest\n",
    "    chromosome = \"chr2\"\n",
    "    start_position = 24179\n",
    "    end_position = 24229\n",
    "\n",
    "    # iterate over the reads that overlap the region of interest\n",
    "    count = 0\n",
    "    for read in bam_file.fetch(chromosome, start_position, end_position):\n",
    "        if not read.is_unmapped and ((read.reference_start <= start_position and read.reference_end >= start_position) or (read.reference_start <= end_position and read.reference_end >= start_position))and read.mapping_quality!=255 and read.mapping_quality>0:\n",
    "    #         print (read.reference_start)\n",
    "    #         print (read.reference_end)\n",
    "    #         print (read.query_length)        \n",
    "    #         print(read.mapping_quality)\n",
    "    #         print(read.query_name)        \n",
    "            count += 1\n",
    "    bam_file.close()  # Close the BAM file\n",
    "    count_list[file]=count\n",
    "print(\"Number of reads overlapping region:\", count)\n",
    "\n",
    "fig, ax = plt.subplots()\n",
    "ax.bar(count_list.keys(), count_list.values())\n",
    "ax.set_xlabel('Samples')\n",
    "ax.set_title('Number of reads overlapping with the region of interest\\n ATCTAATGAAAATAAAGATCTTTTATTTGTACAAATCCCTGCATCCCATC')\n",
    "plt.show()\n"
   ]
  },
  {
   "cell_type": "code",
   "execution_count": null,
   "id": "1d822e4a",
   "metadata": {},
   "outputs": [],
   "source": [
    "files = ['ctrl1','ctrl2','ko1','ko2']\n",
    "count_list={}\n",
    "for file in files:\n",
    "    bam_file = pysam.AlignmentFile(\"bam-ko/sorted_\"+file+\".bam\", \"rb\")\n",
    "\n",
    "    # define the region of interest\n",
    "    chromosome = \"chr2\"\n",
    "    start_position = 24179\n",
    "    end_position = 24229\n",
    "\n",
    "    # iterate over the reads that overlap the region of interest\n",
    "    count = 0\n",
    "    for read in bam_file.fetch(chromosome, start_position, end_position):\n",
    "        if not read.is_unmapped and ((read.reference_start <= start_position and read.reference_end >= start_position) or (read.reference_start <= end_position and read.reference_end >= start_position))and read.mapping_quality!=255 and read.mapping_quality>0:\n",
    "    #         print (read.reference_start)\n",
    "    #         print (read.reference_end)\n",
    "    #         print (read.query_length)        \n",
    "    #         print(read.mapping_quality)\n",
    "    #         print(read.query_name)        \n",
    "            count += 1\n",
    "    bam_file.close()  # Close the BAM file\n",
    "    count_list[file]=count\n",
    "print(\"Number of reads overlapping region:\", count)\n",
    "\n",
    "fig, ax = plt.subplots()\n",
    "ax.bar(count_list.keys(), count_list.values())\n",
    "ax.set_xlabel('Samples')\n",
    "ax.set_title('Number of reads overlapping with the inserted sequence \\n CCCCCTCCCCCGACTCGATTGTACGTGAAGCTCCCCCTCCCCCGATCAAGCACACAAAAAACCAACACACAGATCTAATGAAAATAAAGATCTTTTATT')\n",
    "plt.show()\n"
   ]
  },
  {
   "cell_type": "code",
   "execution_count": 35,
   "id": "4350465d",
   "metadata": {},
   "outputs": [
    {
     "name": "stdout",
     "output_type": "stream",
     "text": [
      "Number of mapped reads: 646580\n"
     ]
    }
   ],
   "source": [
    "bam_file = pysam.AlignmentFile(\"bam-ko/sorted_ko1.bam\", \"rb\")\n",
    "\n",
    "mapped_reads = 0\n",
    "for read in bam_file.fetch(until_eof=True):\n",
    "    if not read.is_unmapped and read.mapping_quality > 0 and read.mapping_quality != 255:\n",
    "        mapped_reads += 1\n",
    "\n",
    "bam_file.close()  # Close the BAM file\n",
    "\n",
    "print(\"Number of mapped reads:\", mapped_reads)"
   ]
  },
  {
   "cell_type": "code",
   "execution_count": 46,
   "id": "6ffa3806",
   "metadata": {},
   "outputs": [
    {
     "name": "stdout",
     "output_type": "stream",
     "text": [
      "Number of mapped reads: 2818842\n"
     ]
    }
   ],
   "source": [
    "bam_file = pysam.AlignmentFile(\"bam-ko/sorted_ko1.bam\", \"rb\")\n",
    "\n",
    "total_reads = 0\n",
    "for reference_name in bam_file.references:\n",
    "    total_reads += bam_file.count(reference_name)\n",
    "\n",
    "\n",
    "bam_file.close()  # Close the BAM file\n",
    "\n",
    "print(\"Number of mapped reads:\", mapped_reads)"
   ]
  },
  {
   "cell_type": "code",
   "execution_count": 47,
   "id": "3e40e055",
   "metadata": {},
   "outputs": [
    {
     "data": {
      "text/plain": [
       "0.22937787928518164"
      ]
     },
     "execution_count": 47,
     "metadata": {},
     "output_type": "execute_result"
    }
   ],
   "source": [
    "646580/2818842"
   ]
  },
  {
   "cell_type": "code",
   "execution_count": 72,
   "id": "2a6632bd",
   "metadata": {},
   "outputs": [
    {
     "name": "stderr",
     "output_type": "stream",
     "text": [
      "[E::idx_find_and_load] Could not retrieve index file for 'bams/ctrl1.bam'\n"
     ]
    }
   ],
   "source": [
    "\n",
    "bam_file = pysam.AlignmentFile(\"bams/sorted_ctrl1.bam\", \"rb\")\n",
    "total_reads = 0\n",
    "correctly_mapped_reads = 0\n",
    "\n",
    "for read in bam_file:\n",
    "    if not read.is_unmapped and read.mapping_quality > 0:\n",
    "        total_reads += 1\n",
    "        if read.cigarstring.count(\"M\") == read.reference_length:\n",
    "            correctly_mapped_reads += 1\n",
    "\n",
    "fraction_correctly_mapped = correctly_mapped_reads / total_reads"
   ]
  },
  {
   "cell_type": "code",
   "execution_count": 73,
   "id": "49a66689",
   "metadata": {},
   "outputs": [
    {
     "data": {
      "text/plain": [
       "0.0"
      ]
     },
     "execution_count": 73,
     "metadata": {},
     "output_type": "execute_result"
    }
   ],
   "source": [
    "fraction_correctly_mapped"
   ]
  },
  {
   "cell_type": "code",
   "execution_count": 114,
   "id": "9c22f969",
   "metadata": {},
   "outputs": [
    {
     "data": {
      "text/plain": [
       "50"
      ]
     },
     "execution_count": 114,
     "metadata": {},
     "output_type": "execute_result"
    }
   ],
   "source": [
    "len('ATCTAATGAAAATAAAGATCTTTTATTTGTACAAATCCCTGCATCCCATC')"
   ]
  },
  {
   "cell_type": "code",
   "execution_count": 115,
   "id": "6e85e1b1",
   "metadata": {},
   "outputs": [
    {
     "data": {
      "text/plain": [
       "24229"
      ]
     },
     "execution_count": 115,
     "metadata": {},
     "output_type": "execute_result"
    }
   ],
   "source": [
    "24179+50"
   ]
  }
 ],
 "metadata": {
  "kernelspec": {
   "display_name": "sc",
   "language": "python",
   "name": "sc"
  },
  "language_info": {
   "codemirror_mode": {
    "name": "ipython",
    "version": 3
   },
   "file_extension": ".py",
   "mimetype": "text/x-python",
   "name": "python",
   "nbconvert_exporter": "python",
   "pygments_lexer": "ipython3",
   "version": "3.10.8"
  }
 },
 "nbformat": 4,
 "nbformat_minor": 5
}
